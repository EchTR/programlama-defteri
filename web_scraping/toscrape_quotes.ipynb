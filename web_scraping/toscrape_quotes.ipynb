{
 "cells": [
  {
   "cell_type": "code",
   "execution_count": 2,
   "id": "c13a4ac9",
   "metadata": {},
   "outputs": [],
   "source": [
    "# github.com/echtr"
   ]
  },
  {
   "cell_type": "code",
   "execution_count": 3,
   "id": "ed61ad75",
   "metadata": {},
   "outputs": [],
   "source": [
    "import requests\n",
    "from bs4 import BeautifulSoup as bs\n",
    "import pandas as pd"
   ]
  },
  {
   "cell_type": "code",
   "execution_count": 4,
   "id": "9a7bae2c",
   "metadata": {},
   "outputs": [],
   "source": [
    "url = \"http://quotes.toscrape.com/\""
   ]
  },
  {
   "cell_type": "code",
   "execution_count": 5,
   "id": "70794792",
   "metadata": {},
   "outputs": [],
   "source": [
    "html_text = requests.get(url).text\n",
    "soup = bs(html_text, \"lxml\")"
   ]
  },
  {
   "cell_type": "code",
   "execution_count": 6,
   "id": "88937aab",
   "metadata": {},
   "outputs": [],
   "source": [
    "items = soup.find_all(\"div\", class_=\"quote\")\n",
    "data = []"
   ]
  },
  {
   "cell_type": "code",
   "execution_count": 16,
   "id": "a73ded03",
   "metadata": {},
   "outputs": [],
   "source": [
    "for i in range(len(items)):\n",
    "    tags = items[i].find_all(\"a\", class_=\"tag\")\n",
    "    data.append(\n",
    "    [\n",
    "        items[i].find(\"small\").text,\n",
    "        items[i].find(\"span\").text,\n",
    "        [x.text for x in tags]\n",
    "    ]\n",
    "    )\n",
    "    # items[i].find()\n",
    "    #item.find(\"span\").text\n",
    "    #item.find(\"small\").text\n",
    "    #tags = item.find_all(\"a\", class_=\"tag\")\n",
    "    #print([x.text for x in tags])"
   ]
  },
  {
   "cell_type": "code",
   "execution_count": 17,
   "id": "b23cd19a",
   "metadata": {},
   "outputs": [
    {
     "data": {
      "text/plain": [
       "[['Albert Einstein',\n",
       "  '“The world as we have created it is a process of our thinking. It cannot be changed without changing our thinking.”',\n",
       "  ['change', 'deep-thoughts', 'thinking', 'world']],\n",
       " ['J.K. Rowling',\n",
       "  '“It is our choices, Harry, that show what we truly are, far more than our abilities.”',\n",
       "  ['abilities', 'choices']],\n",
       " ['Albert Einstein',\n",
       "  '“There are only two ways to live your life. One is as though nothing is a miracle. The other is as though everything is a miracle.”',\n",
       "  ['inspirational', 'life', 'live', 'miracle', 'miracles']],\n",
       " ['Jane Austen',\n",
       "  '“The person, be it gentleman or lady, who has not pleasure in a good novel, must be intolerably stupid.”',\n",
       "  ['aliteracy', 'books', 'classic', 'humor']],\n",
       " ['Marilyn Monroe',\n",
       "  \"“Imperfection is beauty, madness is genius and it's better to be absolutely ridiculous than absolutely boring.”\",\n",
       "  ['be-yourself', 'inspirational']],\n",
       " ['Albert Einstein',\n",
       "  '“Try not to become a man of success. Rather become a man of value.”',\n",
       "  ['adulthood', 'success', 'value']],\n",
       " ['André Gide',\n",
       "  '“It is better to be hated for what you are than to be loved for what you are not.”',\n",
       "  ['life', 'love']],\n",
       " ['Thomas A. Edison',\n",
       "  \"“I have not failed. I've just found 10,000 ways that won't work.”\",\n",
       "  ['edison', 'failure', 'inspirational', 'paraphrased']],\n",
       " ['Eleanor Roosevelt',\n",
       "  \"“A woman is like a tea bag; you never know how strong it is until it's in hot water.”\",\n",
       "  ['misattributed-eleanor-roosevelt']],\n",
       " ['Steve Martin',\n",
       "  '“A day without sunshine is like, you know, night.”',\n",
       "  ['humor', 'obvious', 'simile']]]"
      ]
     },
     "execution_count": 17,
     "metadata": {},
     "output_type": "execute_result"
    }
   ],
   "source": [
    "data"
   ]
  },
  {
   "cell_type": "code",
   "execution_count": 18,
   "id": "aff1eca2",
   "metadata": {
    "scrolled": true
   },
   "outputs": [
    {
     "data": {
      "text/html": [
       "<div>\n",
       "<style scoped>\n",
       "    .dataframe tbody tr th:only-of-type {\n",
       "        vertical-align: middle;\n",
       "    }\n",
       "\n",
       "    .dataframe tbody tr th {\n",
       "        vertical-align: top;\n",
       "    }\n",
       "\n",
       "    .dataframe thead th {\n",
       "        text-align: right;\n",
       "    }\n",
       "</style>\n",
       "<table border=\"1\" class=\"dataframe\">\n",
       "  <thead>\n",
       "    <tr style=\"text-align: right;\">\n",
       "      <th></th>\n",
       "      <th>Name</th>\n",
       "      <th>Quote</th>\n",
       "      <th>Tags</th>\n",
       "    </tr>\n",
       "  </thead>\n",
       "  <tbody>\n",
       "    <tr>\n",
       "      <th>0</th>\n",
       "      <td>Albert Einstein</td>\n",
       "      <td>“The world as we have created it is a process ...</td>\n",
       "      <td>[change, deep-thoughts, thinking, world]</td>\n",
       "    </tr>\n",
       "    <tr>\n",
       "      <th>1</th>\n",
       "      <td>J.K. Rowling</td>\n",
       "      <td>“It is our choices, Harry, that show what we t...</td>\n",
       "      <td>[abilities, choices]</td>\n",
       "    </tr>\n",
       "    <tr>\n",
       "      <th>2</th>\n",
       "      <td>Albert Einstein</td>\n",
       "      <td>“There are only two ways to live your life. On...</td>\n",
       "      <td>[inspirational, life, live, miracle, miracles]</td>\n",
       "    </tr>\n",
       "    <tr>\n",
       "      <th>3</th>\n",
       "      <td>Jane Austen</td>\n",
       "      <td>“The person, be it gentleman or lady, who has ...</td>\n",
       "      <td>[aliteracy, books, classic, humor]</td>\n",
       "    </tr>\n",
       "    <tr>\n",
       "      <th>4</th>\n",
       "      <td>Marilyn Monroe</td>\n",
       "      <td>“Imperfection is beauty, madness is genius and...</td>\n",
       "      <td>[be-yourself, inspirational]</td>\n",
       "    </tr>\n",
       "    <tr>\n",
       "      <th>5</th>\n",
       "      <td>Albert Einstein</td>\n",
       "      <td>“Try not to become a man of success. Rather be...</td>\n",
       "      <td>[adulthood, success, value]</td>\n",
       "    </tr>\n",
       "    <tr>\n",
       "      <th>6</th>\n",
       "      <td>André Gide</td>\n",
       "      <td>“It is better to be hated for what you are tha...</td>\n",
       "      <td>[life, love]</td>\n",
       "    </tr>\n",
       "    <tr>\n",
       "      <th>7</th>\n",
       "      <td>Thomas A. Edison</td>\n",
       "      <td>“I have not failed. I've just found 10,000 way...</td>\n",
       "      <td>[edison, failure, inspirational, paraphrased]</td>\n",
       "    </tr>\n",
       "    <tr>\n",
       "      <th>8</th>\n",
       "      <td>Eleanor Roosevelt</td>\n",
       "      <td>“A woman is like a tea bag; you never know how...</td>\n",
       "      <td>[misattributed-eleanor-roosevelt]</td>\n",
       "    </tr>\n",
       "    <tr>\n",
       "      <th>9</th>\n",
       "      <td>Steve Martin</td>\n",
       "      <td>“A day without sunshine is like, you know, nig...</td>\n",
       "      <td>[humor, obvious, simile]</td>\n",
       "    </tr>\n",
       "  </tbody>\n",
       "</table>\n",
       "</div>"
      ],
      "text/plain": [
       "                Name                                              Quote  \\\n",
       "0    Albert Einstein  “The world as we have created it is a process ...   \n",
       "1       J.K. Rowling  “It is our choices, Harry, that show what we t...   \n",
       "2    Albert Einstein  “There are only two ways to live your life. On...   \n",
       "3        Jane Austen  “The person, be it gentleman or lady, who has ...   \n",
       "4     Marilyn Monroe  “Imperfection is beauty, madness is genius and...   \n",
       "5    Albert Einstein  “Try not to become a man of success. Rather be...   \n",
       "6         André Gide  “It is better to be hated for what you are tha...   \n",
       "7   Thomas A. Edison  “I have not failed. I've just found 10,000 way...   \n",
       "8  Eleanor Roosevelt  “A woman is like a tea bag; you never know how...   \n",
       "9       Steve Martin  “A day without sunshine is like, you know, nig...   \n",
       "\n",
       "                                             Tags  \n",
       "0        [change, deep-thoughts, thinking, world]  \n",
       "1                            [abilities, choices]  \n",
       "2  [inspirational, life, live, miracle, miracles]  \n",
       "3              [aliteracy, books, classic, humor]  \n",
       "4                    [be-yourself, inspirational]  \n",
       "5                     [adulthood, success, value]  \n",
       "6                                    [life, love]  \n",
       "7   [edison, failure, inspirational, paraphrased]  \n",
       "8               [misattributed-eleanor-roosevelt]  \n",
       "9                        [humor, obvious, simile]  "
      ]
     },
     "execution_count": 18,
     "metadata": {},
     "output_type": "execute_result"
    }
   ],
   "source": [
    "df = pd.DataFrame(data=data, columns=[\"Name\", \"Quote\",\"Tags\"])\n",
    "df"
   ]
  }
 ],
 "metadata": {
  "kernelspec": {
   "display_name": "Python 3 (ipykernel)",
   "language": "python",
   "name": "python3"
  },
  "language_info": {
   "codemirror_mode": {
    "name": "ipython",
    "version": 3
   },
   "file_extension": ".py",
   "mimetype": "text/x-python",
   "name": "python",
   "nbconvert_exporter": "python",
   "pygments_lexer": "ipython3",
   "version": "3.9.4"
  }
 },
 "nbformat": 4,
 "nbformat_minor": 5
}
